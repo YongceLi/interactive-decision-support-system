{
 "cells": [
  {
   "cell_type": "markdown",
   "metadata": {},
   "source": [
    "# Vehicle Search Agent API Testing\n",
    "\n",
    "Interactive notebook for testing the API endpoints.\n",
    "\n",
    "**Prerequisites:** Make sure the API server is running:\n",
    "```bash\n",
    "python api/server.py\n",
    "api documentation: http://localhost:8000/docs\n",
    "```"
   ]
  },
  {
   "cell_type": "code",
   "execution_count": 16,
   "metadata": {},
   "outputs": [],
   "source": [
    "import requests\n",
    "import json\n",
    "from pprint import pprint\n",
    "\n",
    "BASE_URL = \"http://localhost:8000\""
   ]
  },
  {
   "cell_type": "markdown",
   "metadata": {},
   "source": [
    "## 1. Health Check"
   ]
  },
  {
   "cell_type": "code",
   "execution_count": 17,
   "metadata": {},
   "outputs": [
    {
     "name": "stdout",
     "output_type": "stream",
     "text": [
      "Status: 200\n",
      "{'service': 'IDSS API', 'status': 'online', 'version': '1.0.0'}\n"
     ]
    }
   ],
   "source": [
    "response = requests.get(f\"{BASE_URL}/\")\n",
    "print(f\"Status: {response.status_code}\")\n",
    "pprint(response.json())"
   ]
  },
  {
   "cell_type": "markdown",
   "metadata": {},
   "source": [
    "## 2. Start a Conversation"
   ]
  },
  {
   "cell_type": "code",
   "execution_count": 18,
   "metadata": {},
   "outputs": [
    {
     "name": "stdout",
     "output_type": "stream",
     "text": [
      "Session ID: 32847c30-9297-4ca9-94c2-eaea29a1b4e6\n",
      "\n",
      "Agent Response:\n",
      "That sounds exciting! Jeeps are known for their ruggedness and ability to handle all kinds of terrain, which is perfect for Colorado's diverse landscape. Are you thinking about a new or used Jeep for your budget?\n",
      "\n",
      "Vehicles Found: 0\n",
      "\n",
      "======================================================================\n",
      "INTERACTIVE ELEMENTS:\n",
      "======================================================================\n",
      "\n",
      "💬 Quick Replies (click to answer):\n",
      "   [1] New\n",
      "   [2] Used\n",
      "\n",
      "💡 Suggested Follow-ups (conversation starters):\n",
      "   [1] What models do you have?\n",
      "   [2] I'm interested in financing\n",
      "   [3] Tell me about off-road capabilities\n"
     ]
    }
   ],
   "source": [
    "# Send first message\n",
    "response = requests.post(\n",
    "    f\"{BASE_URL}/chat\",\n",
    "    json={\n",
    "        \"message\": \"I want a Jeep around $30k in Colorado\"\n",
    "    }\n",
    ")\n",
    "\n",
    "data = response.json()\n",
    "session_id = data.get('session_id')\n",
    "\n",
    "print(f\"Session ID: {session_id}\")\n",
    "print(f\"\\nAgent Response:\")\n",
    "print(data.get('response'))\n",
    "print(f\"\\nVehicles Found: {len(data.get('vehicles', []))}\")\n",
    "\n",
    "# NEW: Display quick replies and suggested follow-ups\n",
    "print(\"\\n\" + \"=\"*70)\n",
    "print(\"INTERACTIVE ELEMENTS:\")\n",
    "print(\"=\"*70)\n",
    "\n",
    "quick_replies = data.get('quick_replies')\n",
    "if quick_replies:\n",
    "    print(f\"\\n💬 Quick Replies (click to answer):\")\n",
    "    for i, reply in enumerate(quick_replies, 1):\n",
    "        print(f\"   [{i}] {reply}\")\n",
    "else:\n",
    "    print(f\"\\n💬 Quick Replies: None (no direct question asked)\")\n",
    "\n",
    "suggested_followups = data.get('suggested_followups', [])\n",
    "if suggested_followups:\n",
    "    print(f\"\\n💡 Suggested Follow-ups (conversation starters):\")\n",
    "    for i, followup in enumerate(suggested_followups, 1):\n",
    "        print(f\"   [{i}] {followup}\")"
   ]
  },
  {
   "cell_type": "markdown",
   "metadata": {},
   "source": [
    "## 3. View Filters"
   ]
  },
  {
   "cell_type": "code",
   "execution_count": 19,
   "metadata": {},
   "outputs": [
    {
     "name": "stdout",
     "output_type": "stream",
     "text": [
      "Current Filters:\n",
      "{'make': 'Jeep', 'price': '28000-32000', 'state': 'CO'}\n",
      "\n",
      "Inferred Preferences:\n",
      "{'brand_affinity': ['Jeep'], 'budget_sensitivity': 'moderate'}\n"
     ]
    }
   ],
   "source": [
    "print(\"Current Filters:\")\n",
    "pprint(data.get('filters'))\n",
    "\n",
    "print(\"\\nInferred Preferences:\")\n",
    "pprint(data.get('preferences'))"
   ]
  },
  {
   "cell_type": "markdown",
   "metadata": {},
   "source": [
    "## 4. View Vehicle Listings"
   ]
  },
  {
   "cell_type": "code",
   "execution_count": 20,
   "metadata": {},
   "outputs": [
    {
     "name": "stdout",
     "output_type": "stream",
     "text": [
      "\n",
      "================================================================================\n",
      "Total vehicles: 0\n"
     ]
    }
   ],
   "source": [
    "vehicles = data.get('vehicles', [])\n",
    "for i, vehicle in enumerate(vehicles[:5], 1):  # Show top 5\n",
    "    v = vehicle.get('vehicle', {})\n",
    "    listing = vehicle.get('retailListing', {})\n",
    "    history = vehicle.get('history', {})\n",
    "    photos = vehicle.get('photos')\n",
    "\n",
    "    print(f\"\\n{'='*80}\")\n",
    "    print(f\"#{i}. {v.get('year')} {v.get('make')} {v.get('model')} {v.get('trim', '')}\")\n",
    "    print(f\"{'='*80}\")\n",
    "\n",
    "    # Price and basic info\n",
    "    print(f\"💰 Price:        ${listing.get('price', 0):,}\")\n",
    "    print(f\"📏 Mileage:      {listing.get('miles', 0):,} miles\")\n",
    "    print(f\"📍 Location:     {listing.get('city')}, {listing.get('state')} {listing.get('zip')}\")\n",
    "    print(f\"🏢 Dealer:       {listing.get('dealer')}\")\n",
    "\n",
    "    # Vehicle details\n",
    "    print(f\"\\n🚗 Vehicle Details:\")\n",
    "    print(f\"   • Vehicle Details Page: {listing.get('vdp', 'N/A')}\")\n",
    "    print(f\"   • Body Style:    {v.get('bodyStyle', 'N/A')}\")\n",
    "    print(f\"   • Drivetrain:    {v.get('drivetrain', 'N/A')}\")\n",
    "    print(f\"   • Engine:        {v.get('engine', 'N/A')}\")\n",
    "    print(f\"   • Transmission:  {v.get('transmission', 'N/A')}\")\n",
    "    print(f\"   • Exterior:      {v.get('exteriorColor', 'N/A')}\")\n",
    "    print(f\"   • Interior:      {v.get('interiorColor', 'N/A')}\")\n",
    "    print(f\"   • Doors:         {v.get('doors', 'N/A')}\")\n",
    "    print(f\"   • Seats:         {v.get('seats', 'N/A')}\")\n",
    "\n",
    "    # History\n",
    "    print(f\"\\n📋 Vehicle History:\")\n",
    "    print(f\"   • Accidents:     {'Yes (' + str(history.get('accidentCount', 0)) + ')' if\n",
    "history.get('accidents') else 'No'}\")\n",
    "    print(f\"   • Owners:        {history.get('ownerCount', 'N/A')}\")\n",
    "    print(f\"   • Usage:         {history.get('usageType', 'N/A')}\")\n",
    "\n",
    "    # Photos\n",
    "    if photos and photos.get('retail'):\n",
    "        photo_urls = photos.get('retail', [])\n",
    "        print(f\"\\n📸 Photos:       {len(photo_urls)} available (cached)\")\n",
    "        print(f\"   • First photo:   {photo_urls[0][:60]}...\")\n",
    "    else:\n",
    "        print(f\"\\n📸 Photos:       No photos available\")\n",
    "\n",
    "    # Links\n",
    "    print(f\"\\n🔗 Links:\")\n",
    "    print(f\"   • VIN:           {v.get('vin')}\")\n",
    "    print(f\"   • Listing:       {listing.get('vdp', 'N/A')[:70]}...\")\n",
    "    if listing.get('carfaxUrl'):\n",
    "        print(f\"   • CarFax:        {listing.get('carfaxUrl')[:70]}...\")\n",
    "\n",
    "print(f\"\\n{'='*80}\")\n",
    "print(f\"Total vehicles: {len(vehicles)}\")"
   ]
  },
  {
   "cell_type": "markdown",
   "metadata": {},
   "source": [
    "## 5. Continue Conversation (Analytical Mode)"
   ]
  },
  {
   "cell_type": "code",
   "execution_count": 21,
   "metadata": {},
   "outputs": [
    {
     "name": "stdout",
     "output_type": "stream",
     "text": [
      "\n",
      "Agent Response:\n",
      "Absolutely! When it comes to choosing a Jeep, it's good to know what kind of adventures or daily driving you'll be using it for. Are you planning to use it mainly for off-roading, or will it be more of a daily driver with some occasional outdoor trips?\n",
      "\n",
      "======================================================================\n",
      "INTERACTIVE ELEMENTS:\n",
      "======================================================================\n",
      "\n",
      "💬 Quick Replies:\n",
      "   [1] Off-roading\n",
      "   [2] Daily driver\n",
      "   [3] Both\n",
      "\n",
      "💡 Suggested Follow-ups:\n",
      "   [1] Show me vehicles now\n",
      "   [2] What about financing?\n",
      "   [3] Tell me about warranties\n"
     ]
    }
   ],
   "source": [
    "# Ask about a specific vehicle\n",
    "response = requests.post(\n",
    "    f\"{BASE_URL}/chat\",\n",
    "    json={\n",
    "        \"message\": \"Tell me more about #1\",\n",
    "        \"session_id\": session_id\n",
    "    }\n",
    ")\n",
    "\n",
    "data = response.json()\n",
    "\n",
    "print(f\"\\nAgent Response:\")\n",
    "print(data.get('response'))\n",
    "\n",
    "# NEW: Display interactive elements\n",
    "print(\"\\n\" + \"=\"*70)\n",
    "print(\"INTERACTIVE ELEMENTS:\")\n",
    "print(\"=\"*70)\n",
    "\n",
    "quick_replies = data.get('quick_replies')\n",
    "if quick_replies:\n",
    "    print(f\"\\n💬 Quick Replies:\")\n",
    "    for i, reply in enumerate(quick_replies, 1):\n",
    "        print(f\"   [{i}] {reply}\")\n",
    "else:\n",
    "    print(f\"\\n💬 Quick Replies: None\")\n",
    "\n",
    "suggested_followups = data.get('suggested_followups', [])\n",
    "if suggested_followups:\n",
    "    print(f\"\\n💡 Suggested Follow-ups:\")\n",
    "    for i, followup in enumerate(suggested_followups, 1):\n",
    "        print(f\"   [{i}] {followup}\")"
   ]
  },
  {
   "cell_type": "markdown",
   "metadata": {},
   "source": [
    "## 6. Get Session State"
   ]
  },
  {
   "cell_type": "code",
   "execution_count": 22,
   "metadata": {},
   "outputs": [
    {
     "name": "stdout",
     "output_type": "stream",
     "text": [
      "Session State:\n",
      "  Filters: {'make': 'Jeep', 'price': '28000-32000', 'state': 'CO'}\n",
      "  Preferences: {'brand_affinity': ['Jeep'], 'budget_sensitivity': 'moderate'}\n",
      "  Vehicles: 0\n",
      "  Conversation Length: 4 messages\n"
     ]
    }
   ],
   "source": [
    "response = requests.get(f\"{BASE_URL}/session/{session_id}\")\n",
    "session_data = response.json()\n",
    "\n",
    "print(\"Session State:\")\n",
    "print(f\"  Filters: {session_data.get('filters')}\")\n",
    "print(f\"  Preferences: {session_data.get('preferences')}\")\n",
    "print(f\"  Vehicles: {len(session_data.get('vehicles', []))}\")\n",
    "print(f\"  Conversation Length: {len(session_data.get('conversation_history', []))} messages\")"
   ]
  },
  {
   "cell_type": "markdown",
   "metadata": {},
   "source": [
    "## 7. View Conversation History"
   ]
  },
  {
   "cell_type": "code",
   "execution_count": 23,
   "metadata": {},
   "outputs": [
    {
     "name": "stdout",
     "output_type": "stream",
     "text": [
      "Conversation History:\n",
      "======================================================================\n",
      "\n",
      "👤 User: I want a Jeep around $30k in Colorado\n",
      "----------------------------------------------------------------------\n",
      "\n",
      "🤖 Agent: That sounds exciting! Jeeps are known for their ruggedness and ability to handle all kinds of terrain, which is perfect for Colorado's diverse landscape. Are you thinking about a new or used Jeep for ...\n",
      "----------------------------------------------------------------------\n",
      "\n",
      "👤 User: Tell me more about #1\n",
      "----------------------------------------------------------------------\n",
      "\n",
      "🤖 Agent: Absolutely! When it comes to choosing a Jeep, it's good to know what kind of adventures or daily driving you'll be using it for. Are you planning to use it mainly for off-roading, or will it be more o...\n",
      "----------------------------------------------------------------------\n"
     ]
    }
   ],
   "source": [
    "print(\"Conversation History:\")\n",
    "print(\"=\" * 70)\n",
    "\n",
    "for msg in session_data.get('conversation_history', []):\n",
    "    role = msg.get('role', 'unknown').upper()\n",
    "    content = msg.get('content', '')\n",
    "    \n",
    "    if role == 'USER':\n",
    "        print(f\"\\n👤 User: {content}\")\n",
    "    else:\n",
    "        print(f\"\\n🤖 Agent: {content[:200]}...\")  # Truncate long responses\n",
    "    print(\"-\" * 70)"
   ]
  },
  {
   "cell_type": "markdown",
   "metadata": {},
   "source": [
    "## 8. Get Vehicle Details by VIN"
   ]
  },
  {
   "cell_type": "code",
   "execution_count": 31,
   "metadata": {},
   "outputs": [
    {
     "name": "stdout",
     "output_type": "stream",
     "text": [
      "No vehicles available to query\n"
     ]
    }
   ],
   "source": [
    "# Get VIN from first vehicle and test Auto.dev API directly\n",
    "import os\n",
    "from dotenv import load_dotenv\n",
    "\n",
    "load_dotenv()\n",
    "\n",
    "if vehicles:\n",
    "    vin = vehicles[0].get('vehicle', {}).get('vin')\n",
    "    \n",
    "    if vin:\n",
    "        print(f\"Testing Auto.dev API for VIN: {vin}\\n\")\n",
    "        print(\"=\" * 70)\n",
    "        \n",
    "        # Get Auto.dev API key\n",
    "        autodev_api_key = os.getenv('AUTODEV_API_KEY')\n",
    "        \n",
    "        if not autodev_api_key:\n",
    "            print(\"❌ AUTODEV_API_KEY not found in environment\")\n",
    "        else:\n",
    "            headers = {\n",
    "                \"Authorization\": f\"Bearer {autodev_api_key}\",\n",
    "                \"Content-Type\": \"application/json\"\n",
    "            }\n",
    "            \n",
    "            # Get vehicle listing details\n",
    "            print(\"\\n1. Vehicle Listing Details:\")\n",
    "            listing_response = requests.get(\n",
    "                f\"https://api.auto.dev/listings/{vin}\",\n",
    "                headers=headers\n",
    "            )\n",
    "            \n",
    "            if listing_response.status_code == 200:\n",
    "                listing_data = listing_response.json()\n",
    "                print(\"✅ Listing found\")\n",
    "                pprint(listing_data)\n",
    "            else:\n",
    "                print(f\"❌ Error {listing_response.status_code}: {listing_response.text}\")\n",
    "            \n",
    "            # Get vehicle photos\n",
    "            print(\"\\n2. Vehicle Photos:\")\n",
    "            photos_response = requests.get(\n",
    "                f\"https://api.auto.dev/photos/{vin}\",\n",
    "                headers=headers\n",
    "            )\n",
    "            \n",
    "            if photos_response.status_code == 200:\n",
    "                photos_data = photos_response.json()\n",
    "                retail_photos = photos_data.get('data', {}).get('retail', [])\n",
    "                \n",
    "                print(f\"✅ Found {len(retail_photos)} photos\")\n",
    "                \n",
    "                if retail_photos:\n",
    "                    print(\"\\nFirst 5 photo URLs:\")\n",
    "                    for i, url in enumerate(retail_photos[:5], 1):\n",
    "                        print(f\"  {i}. {url}\")\n",
    "            else:\n",
    "                print(f\"❌ Error {photos_response.status_code}: {photos_response.text}\")\n",
    "    else:\n",
    "        print(\"No VIN found in first vehicle\")\n",
    "else:\n",
    "    print(\"No vehicles available to query\")"
   ]
  },
  {
   "cell_type": "markdown",
   "metadata": {},
   "source": [
    "## 9. Custom Message (Try Your Own!)"
   ]
  },
  {
   "cell_type": "code",
   "execution_count": 26,
   "metadata": {},
   "outputs": [
    {
     "name": "stdout",
     "output_type": "stream",
     "text": [
      "Your Message: Show me some vehicles now?\n",
      "\n",
      "Agent Response:\n",
      "Thanks for updating your Jeep search preferences!\n",
      "\n",
      "- **2023 Jeep Wrangler Sahara**\n",
      "- **Price:** $29,750\n",
      "- **Rugged 4WD for adventurous trips**\n",
      "- **Located in Denver, CO**\n",
      "- **Great for outdoor enthusiast lifestyle**\n",
      "\n",
      "Considering your budget is moderately sensitive, how does this price range feel for you? Also, do you prefer to stay within the Denver area, or are you open to nearby locations?\n"
     ]
    }
   ],
   "source": [
    "# Try your own message\n",
    "custom_message = \"Show me some vehicles now?\"  \n",
    "\n",
    "response = requests.post(\n",
    "    f\"{BASE_URL}/chat\",\n",
    "    json={\n",
    "        \"message\": custom_message,\n",
    "        \"session_id\": session_id\n",
    "    }\n",
    ")\n",
    "\n",
    "data = response.json()\n",
    "print(f\"Your Message: {custom_message}\")\n",
    "print(f\"\\nAgent Response:\")\n",
    "print(data.get('response'))"
   ]
  },
  {
   "cell_type": "markdown",
   "metadata": {},
   "source": [
    "## 10. Reset Session"
   ]
  },
  {
   "cell_type": "code",
   "execution_count": 27,
   "metadata": {},
   "outputs": [
    {
     "name": "stdout",
     "output_type": "stream",
     "text": [
      "Session reset:\n",
      "{'session_id': '32847c30-9297-4ca9-94c2-eaea29a1b4e6', 'status': 'reset'}\n"
     ]
    }
   ],
   "source": [
    "response = requests.post(\n",
    "    f\"{BASE_URL}/session/reset\",\n",
    "    json={\"session_id\": session_id}\n",
    ")\n",
    "\n",
    "print(\"Session reset:\")\n",
    "pprint(response.json())"
   ]
  },
  {
   "cell_type": "markdown",
   "metadata": {},
   "source": [
    "## 11. List All Active Sessions"
   ]
  },
  {
   "cell_type": "code",
   "execution_count": 28,
   "metadata": {},
   "outputs": [
    {
     "name": "stdout",
     "output_type": "stream",
     "text": [
      "Active Sessions: 1\n",
      "Session IDs: ['32847c30-9297-4ca9-94c2-eaea29a1b4e6']\n"
     ]
    }
   ],
   "source": [
    "response = requests.get(f\"{BASE_URL}/sessions\")\n",
    "sessions_data = response.json()\n",
    "\n",
    "print(f\"Active Sessions: {sessions_data.get('active_sessions')}\")\n",
    "print(f\"Session IDs: {sessions_data.get('session_ids')}\")"
   ]
  },
  {
   "cell_type": "markdown",
   "metadata": {},
   "source": [
    "## 12. Test Event Tracking - Log User Interactions"
   ]
  },
  {
   "cell_type": "code",
   "execution_count": null,
   "metadata": {},
   "outputs": [
    {
     "name": "stdout",
     "output_type": "stream",
     "text": [
      "\n",
      "📝 Logging event: User viewed photos\n"
     ]
    },
    {
     "ename": "NameError",
     "evalue": "name 'vin' is not defined",
     "output_type": "error",
     "traceback": [
      "\u001b[31m---------------------------------------------------------------------------\u001b[39m",
      "\u001b[31mNameError\u001b[39m                                 Traceback (most recent call last)",
      "\u001b[36mCell\u001b[39m\u001b[36m \u001b[39m\u001b[32mIn[29]\u001b[39m\u001b[32m, line 38\u001b[39m\n\u001b[32m     31\u001b[39m \u001b[38;5;66;03m# Example 2: User views photos\u001b[39;00m\n\u001b[32m     32\u001b[39m \u001b[38;5;28mprint\u001b[39m(\u001b[33m\"\u001b[39m\u001b[38;5;130;01m\\n\u001b[39;00m\u001b[33m📝 Logging event: User viewed photos\u001b[39m\u001b[33m\"\u001b[39m)\n\u001b[32m     33\u001b[39m response = requests.post(\n\u001b[32m     34\u001b[39m     \u001b[33mf\u001b[39m\u001b[33m\"\u001b[39m\u001b[38;5;132;01m{\u001b[39;00mBASE_URL\u001b[38;5;132;01m}\u001b[39;00m\u001b[33m/session/\u001b[39m\u001b[38;5;132;01m{\u001b[39;00msession_id\u001b[38;5;132;01m}\u001b[39;00m\u001b[33m/event\u001b[39m\u001b[33m\"\u001b[39m,\n\u001b[32m     35\u001b[39m     json={\n\u001b[32m     36\u001b[39m         \u001b[33m\"\u001b[39m\u001b[33mevent_type\u001b[39m\u001b[33m\"\u001b[39m: \u001b[33m\"\u001b[39m\u001b[33mphoto_view\u001b[39m\u001b[33m\"\u001b[39m,\n\u001b[32m     37\u001b[39m         \u001b[33m\"\u001b[39m\u001b[33mdata\u001b[39m\u001b[33m\"\u001b[39m: {\n\u001b[32m---> \u001b[39m\u001b[32m38\u001b[39m             \u001b[33m\"\u001b[39m\u001b[33mvin\u001b[39m\u001b[33m\"\u001b[39m: \u001b[43mvin\u001b[49m,\n\u001b[32m     39\u001b[39m             \u001b[33m\"\u001b[39m\u001b[33mvehicle_index\u001b[39m\u001b[33m\"\u001b[39m: \u001b[32m0\u001b[39m,\n\u001b[32m     40\u001b[39m             \u001b[33m\"\u001b[39m\u001b[33mphoto_count\u001b[39m\u001b[33m\"\u001b[39m: \u001b[38;5;28mlen\u001b[39m(first_vehicle.get(\u001b[33m'\u001b[39m\u001b[33mphotos\u001b[39m\u001b[33m'\u001b[39m, {}).get(\u001b[33m'\u001b[39m\u001b[33mretail\u001b[39m\u001b[33m'\u001b[39m, [])) \u001b[38;5;28;01mif\u001b[39;00m first_vehicle.get(\u001b[33m'\u001b[39m\u001b[33mphotos\u001b[39m\u001b[33m'\u001b[39m) \u001b[38;5;28;01melse\u001b[39;00m \u001b[32m0\u001b[39m\n\u001b[32m     41\u001b[39m         }\n\u001b[32m     42\u001b[39m     }\n\u001b[32m     43\u001b[39m )\n\u001b[32m     45\u001b[39m \u001b[38;5;28;01mif\u001b[39;00m response.status_code == \u001b[32m200\u001b[39m:\n\u001b[32m     46\u001b[39m     \u001b[38;5;28mprint\u001b[39m(\u001b[33mf\u001b[39m\u001b[33m\"\u001b[39m\u001b[33m✅ Photo view event logged!\u001b[39m\u001b[33m\"\u001b[39m)\n",
      "\u001b[31mNameError\u001b[39m: name 'vin' is not defined"
     ]
    }
   ],
   "source": [
    "# Simulate user interactions with the recommendation list\n",
    "\n",
    "# Example 1: User views vehicle details\n",
    "if vehicles and len(vehicles) > 0:\n",
    "    first_vehicle = vehicles[0]\n",
    "    vin = first_vehicle.get('vehicle', {}).get('vin')\n",
    "    \n",
    "    print(\"📝 Logging event: User clicked to view vehicle #1\")\n",
    "    response = requests.post(\n",
    "        f\"{BASE_URL}/session/{session_id}/event\",\n",
    "        json={\n",
    "            \"event_type\": \"vehicle_click\",\n",
    "            \"data\": {\n",
    "                \"vin\": vin,\n",
    "                \"vehicle_index\": 0,\n",
    "                \"year\": first_vehicle.get('vehicle', {}).get('year'),\n",
    "                \"make\": first_vehicle.get('vehicle', {}).get('make'),\n",
    "                \"model\": first_vehicle.get('vehicle', {}).get('model')\n",
    "            }\n",
    "        }\n",
    "    )\n",
    "    \n",
    "    if response.status_code == 200:\n",
    "        result = response.json()\n",
    "        print(f\"✅ Event logged successfully!\")\n",
    "        print(f\"   Event ID: {result.get('event_id')}\")\n",
    "        print(f\"   Timestamp: {result.get('timestamp')}\")\n",
    "    else:\n",
    "        print(f\"❌ Error: {response.status_code} - {response.text}\")\n",
    "\n",
    "# Example 2: User views photos\n",
    "print(\"\\n📝 Logging event: User viewed photos\")\n",
    "response = requests.post(\n",
    "    f\"{BASE_URL}/session/{session_id}/event\",\n",
    "    json={\n",
    "        \"event_type\": \"photo_view\",\n",
    "        \"data\": {\n",
    "            \"vin\": vin,\n",
    "            \"vehicle_index\": 0,\n",
    "            \"photo_count\": len(first_vehicle.get('photos', {}).get('retail', [])) if first_vehicle.get('photos') else 0\n",
    "        }\n",
    "    }\n",
    ")\n",
    "\n",
    "if response.status_code == 200:\n",
    "    print(f\"✅ Photo view event logged!\")\n",
    "    print(f\"   Event ID: {response.json().get('event_id')}\")\n",
    "\n",
    "# Example 3: User clicks CarFax link\n",
    "print(\"\\n📝 Logging event: User clicked CarFax link\")\n",
    "response = requests.post(\n",
    "    f\"{BASE_URL}/session/{session_id}/event\",\n",
    "    json={\n",
    "        \"event_type\": \"link_click\",\n",
    "        \"data\": {\n",
    "            \"vin\": vin,\n",
    "            \"link_type\": \"carfax\",\n",
    "            \"url\": first_vehicle.get('retailListing', {}).get('carfaxUrl')\n",
    "        }\n",
    "    }\n",
    ")\n",
    "\n",
    "if response.status_code == 200:\n",
    "    print(f\"✅ Link click event logged!\")\n",
    "\n",
    "# Example 4: Log a custom event (e.g., user scrolled to position 5)\n",
    "print(\"\\n📝 Logging event: User scrolled to vehicle #5\")\n",
    "response = requests.post(\n",
    "    f\"{BASE_URL}/session/{session_id}/event\",\n",
    "    json={\n",
    "        \"event_type\": \"scroll_position\",\n",
    "        \"data\": {\n",
    "            \"max_index_viewed\": 4,\n",
    "            \"total_vehicles\": len(vehicles)\n",
    "        }\n",
    "    }\n",
    ")\n",
    "\n",
    "if response.status_code == 200:\n",
    "    print(f\"✅ Scroll event logged!\")\n",
    "\n",
    "print(\"\\n\" + \"=\"*70)"
   ]
  },
  {
   "cell_type": "markdown",
   "metadata": {},
   "source": [
    "## 13. Retrieve All Logged Events"
   ]
  },
  {
   "cell_type": "code",
   "execution_count": 32,
   "metadata": {},
   "outputs": [
    {
     "name": "stdout",
     "output_type": "stream",
     "text": [
      "🔍 Retrieving all interaction events...\n",
      "\n",
      "📊 Total Events: 0\n",
      "Session ID: 32847c30-9297-4ca9-94c2-eaea29a1b4e6\n",
      "\n",
      "======================================================================\n",
      "\n",
      "\n",
      "🔍 Filtering: Only 'vehicle_click' events\n",
      "\n",
      "Found 0 vehicle click events\n"
     ]
    }
   ],
   "source": [
    "# Get all events for the session\n",
    "print(\"🔍 Retrieving all interaction events...\\n\")\n",
    "\n",
    "response = requests.get(f\"{BASE_URL}/session/{session_id}/events\")\n",
    "\n",
    "if response.status_code == 200:\n",
    "    events_data = response.json()\n",
    "    \n",
    "    print(f\"📊 Total Events: {events_data.get('total')}\")\n",
    "    print(f\"Session ID: {events_data.get('session_id')}\\n\")\n",
    "    print(\"=\"*70)\n",
    "    \n",
    "    for i, event in enumerate(events_data.get('events', []), 1):\n",
    "        print(f\"\\n📌 Event #{i}\")\n",
    "        print(f\"   Type:      {event.get('event_type')}\")\n",
    "        print(f\"   Timestamp: {event.get('timestamp')}\")\n",
    "        print(f\"   Data:\")\n",
    "        \n",
    "        for key, value in event.get('data', {}).items():\n",
    "            print(f\"      • {key}: {value}\")\n",
    "        \n",
    "        print(\"-\"*70)\n",
    "    \n",
    "    # Filter by event type\n",
    "    print(\"\\n\\n🔍 Filtering: Only 'vehicle_click' events\\n\")\n",
    "    response = requests.get(f\"{BASE_URL}/session/{session_id}/events?event_type=vehicle_click\")\n",
    "    \n",
    "    if response.status_code == 200:\n",
    "        filtered_data = response.json()\n",
    "        print(f\"Found {filtered_data.get('total')} vehicle click events\")\n",
    "        for event in filtered_data.get('events', []):\n",
    "            vin = event.get('data', {}).get('vin')\n",
    "            print(f\"   • VIN: {vin} at {event.get('timestamp')}\")\n",
    "else:\n",
    "    print(f\"❌ Error: {response.status_code} - {response.text}\")"
   ]
  },
  {
   "cell_type": "markdown",
   "metadata": {},
   "source": [
    "## 14. Test Exploration Mode\n",
    "\n",
    "The system now includes an exploration phase where the agent asks questions like a real salesperson before making recommendations."
   ]
  },
  {
   "cell_type": "code",
   "execution_count": 33,
   "metadata": {},
   "outputs": [
    {
     "name": "stdout",
     "output_type": "stream",
     "text": [
      "New Session ID: None\n",
      "\n",
      "======================================================================\n",
      "EXPLORATION MODE TEST\n",
      "======================================================================\n",
      "\n",
      "The agent will ask questions before showing vehicles.\n",
      "Watch the 'exploration_mode' field in responses.\n",
      "\n",
      "\n",
      "[Turn 1] User: Hi, I'm looking for a car\n",
      "\n",
      "Exploration Mode: None\n",
      "Vehicles Count: 0\n",
      "\n",
      "🤖 Agent: Hi there! I'm glad you stopped by. What's motivating your car search right now? Is there something specific happening in your life that's got you thinking about a new ride?\n",
      "\n",
      "----------------------------------------------------------------------\n"
     ]
    }
   ],
   "source": [
    "# Create a new session for exploration testing\n",
    "response = requests.post(f\"{BASE_URL}/session/reset\")\n",
    "exploration_session_id = response.json().get('session_id')\n",
    "\n",
    "print(f\"New Session ID: {exploration_session_id}\")\n",
    "print(\"\\n\" + \"=\"*70)\n",
    "print(\"EXPLORATION MODE TEST\")\n",
    "print(\"=\"*70)\n",
    "print(\"\\nThe agent will ask questions before showing vehicles.\")\n",
    "print(\"Watch the 'exploration_mode' field in responses.\\n\")\n",
    "\n",
    "# Turn 1: Initial greeting\n",
    "print(\"\\n[Turn 1] User: Hi, I'm looking for a car\")\n",
    "response = requests.post(\n",
    "    f\"{BASE_URL}/chat\",\n",
    "    json={\n",
    "        \"message\": \"Hi, I'm looking for a car\",\n",
    "        \"session_id\": exploration_session_id\n",
    "    }\n",
    ")\n",
    "\n",
    "data = response.json()\n",
    "print(f\"\\nExploration Mode: {data.get('exploration_mode')}\")\n",
    "print(f\"Vehicles Count: {len(data.get('vehicles', []))}\")\n",
    "print(f\"\\n🤖 Agent: {data.get('response')}\")\n",
    "print(\"\\n\" + \"-\"*70)"
   ]
  },
  {
   "cell_type": "code",
   "execution_count": 34,
   "metadata": {},
   "outputs": [
    {
     "name": "stdout",
     "output_type": "stream",
     "text": [
      "[Turn 2] User: It's my first car, for commuting to work\n",
      "\n",
      "Exploration Mode: None\n",
      "Vehicles Count: 0\n",
      "Exploration Insights: None\n",
      "\n",
      "🤖 Agent: That's exciting, getting your first car is a big milestone! Since you'll be using it for commuting, reliability and fuel efficiency might be important to you. Can I ask what your budget range is for this purchase?\n",
      "\n",
      "----------------------------------------------------------------------\n"
     ]
    }
   ],
   "source": [
    "# Turn 2: Answer first question\n",
    "print(\"[Turn 2] User: It's my first car, for commuting to work\")\n",
    "response = requests.post(\n",
    "    f\"{BASE_URL}/chat\",\n",
    "    json={\n",
    "        \"message\": \"It's my first car, for commuting to work\",\n",
    "        \"session_id\": exploration_session_id\n",
    "    }\n",
    ")\n",
    "\n",
    "data = response.json()\n",
    "print(f\"\\nExploration Mode: {data.get('exploration_mode')}\")\n",
    "print(f\"Vehicles Count: {len(data.get('vehicles', []))}\")\n",
    "print(f\"Exploration Insights: {data.get('exploration_insights')}\")\n",
    "print(f\"\\n🤖 Agent: {data.get('response')}\")\n",
    "print(\"\\n\" + \"-\"*70)"
   ]
  },
  {
   "cell_type": "code",
   "execution_count": 35,
   "metadata": {},
   "outputs": [
    {
     "name": "stdout",
     "output_type": "stream",
     "text": [
      "[Turn 3] User: Budget is around $30k, reliability is important\n",
      "\n",
      "Exploration Mode: None\n",
      "Vehicles Count: 0\n",
      "\n",
      "🤖 Agent: Got it, reliability is definitely crucial when choosing a car. Are you looking for a new or used vehicle within that budget?...\n",
      "\n",
      "----------------------------------------------------------------------\n",
      "\n",
      "[Turn 4] User: I live in the city, about 20 miles daily commute\n",
      "\n",
      "Exploration Mode: None\n",
      "Vehicles Count: 0\n",
      "\n",
      "🤖 Agent: That sounds like a pretty typical city commute! Are you looking for a specific type of vehicle to suit your needs, like a compact car or maybe a hybrid for better fuel efficiency?...\n",
      "\n",
      "----------------------------------------------------------------------\n",
      "\n",
      "[Turn 5] User: Yes, show me some options\n",
      "\n",
      "Exploration Mode: None\n",
      "Vehicles Count: 0\n",
      "\n",
      "🤖 Agent: Looks like you're just getting started on your vehicle search!\n",
      "\n",
      "Since there are no vehicles matching your preferences at the moment, it might be a good idea to refine your search criteria. Are you loo...\n",
      "\n",
      "----------------------------------------------------------------------\n",
      "\n"
     ]
    }
   ],
   "source": [
    "# Turn 3-4: Continue exploration\n",
    "messages = [\n",
    "    \"Budget is around $30k, reliability is important\",\n",
    "    \"I live in the city, about 20 miles daily commute\",\n",
    "    \"Yes, show me some options\"\n",
    "]\n",
    "\n",
    "for i, msg in enumerate(messages, 3):\n",
    "    print(f\"[Turn {i}] User: {msg}\")\n",
    "    response = requests.post(\n",
    "        f\"{BASE_URL}/chat\",\n",
    "        json={\n",
    "            \"message\": msg,\n",
    "            \"session_id\": exploration_session_id\n",
    "        }\n",
    "    )\n",
    "    \n",
    "    data = response.json()\n",
    "    print(f\"\\nExploration Mode: {data.get('exploration_mode')}\")\n",
    "    print(f\"Vehicles Count: {len(data.get('vehicles', []))}\")\n",
    "    \n",
    "    if data.get('exploration_mode') == 'complete':\n",
    "        print(\"✅ Exploration complete! Showing recommendations.\")\n",
    "    \n",
    "    print(f\"\\n🤖 Agent: {data.get('response')[:200]}...\")\n",
    "    print(\"\\n\" + \"-\"*70 + \"\\n\")"
   ]
  },
  {
   "cell_type": "markdown",
   "metadata": {},
   "source": [
    "## Key Observations About Exploration Mode\n",
    "\n",
    "**What to look for:**\n",
    "1. **exploration_mode**: \n",
    "   - `\"active\"` = Agent is still asking questions\n",
    "   - `\"complete\"` = Agent is ready to show vehicles\n",
    "   \n",
    "2. **vehicles**: Empty list (`[]`) during exploration, populated after completion\n",
    "\n",
    "3. **exploration_insights**: Contains what the agent learned:\n",
    "   - `use_cases`: How they'll use the vehicle\n",
    "   - `lifestyle_notes`: Family, lifestyle context\n",
    "   - `must_haves`: Critical requirements\n",
    "   - `current_situation`: Their current vehicle situation\n",
    "\n",
    "**Configuration:**\n",
    "- Set `MAX_EXPLORATION_QUESTIONS` in `.env` to control question limit (default: 6)\n",
    "- Agent will automatically transition after max questions reached\n",
    "- User can force early transition by saying \"show me cars\" or similar"
   ]
  },
  {
   "cell_type": "markdown",
   "metadata": {},
   "source": [
    "## 15. 🎯 NEW: Streaming Chat API with Real-Time Progress\n",
    "\n",
    "**This section shows how to use the `/chat/stream` endpoint with actual runnable code.**\n",
    "\n",
    "The streaming endpoint sends progress updates in real-time as the agent processes your request."
   ]
  },
  {
   "cell_type": "code",
   "execution_count": 14,
   "metadata": {},
   "outputs": [],
   "source": [
    "import requests\n",
    "import json\n",
    "\n",
    "def stream_chat(message, session_id=None):\n",
    "    \"\"\"\n",
    "    Stream chat with real-time progress updates.\n",
    "    \n",
    "    Args:\n",
    "        message: Your question or request\n",
    "        session_id: Optional session ID for conversation continuity\n",
    "        \n",
    "    Returns:\n",
    "        Final response data\n",
    "    \"\"\"\n",
    "    url = f\"{BASE_URL}/chat/stream\"\n",
    "    \n",
    "    payload = {\"message\": message}\n",
    "    if session_id:\n",
    "        payload[\"session_id\"] = session_id\n",
    "    \n",
    "    print(f\"📨 Sending: '{message}'\")\n",
    "    print(\"\\n\" + \"=\"*70)\n",
    "    print(\"PROGRESS UPDATES:\")\n",
    "    print(\"=\"*70 + \"\\n\")\n",
    "    \n",
    "    response = requests.post(\n",
    "        url,\n",
    "        json=payload,\n",
    "        stream=True\n",
    "    )\n",
    "    \n",
    "    event_type = None\n",
    "    progress_count = 0\n",
    "    final_data = None\n",
    "    \n",
    "    # Process Server-Sent Events\n",
    "    for line in response.iter_lines(decode_unicode=True):\n",
    "        if not line:\n",
    "            continue\n",
    "        \n",
    "        line = line.strip()\n",
    "        \n",
    "        if line.startswith('event:'):\n",
    "            event_type = line.split(':', 1)[1].strip()\n",
    "            \n",
    "        elif line.startswith('data:'):\n",
    "            if not event_type:\n",
    "                continue\n",
    "                \n",
    "            data_json = line.split(':', 1)[1].strip()\n",
    "            data = json.loads(data_json)\n",
    "            \n",
    "            if event_type == 'progress':\n",
    "                progress_count += 1\n",
    "                description = data.get('description', '')\n",
    "                status = data.get('status', '')\n",
    "                \n",
    "                # Show progress with emoji\n",
    "                emoji = \"⏳\" if status == \"in_progress\" else \"✅\"\n",
    "                print(f\"{emoji} [{progress_count}] {description}\")\n",
    "                \n",
    "            elif event_type == 'complete':\n",
    "                final_data = data\n",
    "                \n",
    "            elif event_type == 'error':\n",
    "                print(f\"\\n❌ ERROR: {data.get('error')}\")\n",
    "                return None\n",
    "            \n",
    "            # Reset for next event\n",
    "            event_type = None\n",
    "    \n",
    "    print(\"\\n\" + \"=\"*70)\n",
    "    print(\"✨ COMPLETE!\")\n",
    "    print(\"=\"*70)\n",
    "    \n",
    "    return final_data"
   ]
  },
  {
   "cell_type": "markdown",
   "metadata": {},
   "source": [
    "### Comparison: Regular vs Streaming API\n",
    "\n",
    "Let's compare the two endpoints:"
   ]
  },
  {
   "cell_type": "code",
   "execution_count": 15,
   "metadata": {},
   "outputs": [
    {
     "name": "stdout",
     "output_type": "stream",
     "text": [
      "======================================================================\n",
      "COMPARISON: Regular vs Streaming\n",
      "======================================================================\n",
      "\n",
      "1️⃣ Regular /chat endpoint (no progress updates):\n",
      "----------------------------------------------------------------------\n",
      "⏱️  Time: 10.08s\n",
      "✅ Response received (no progress updates during wait)\n",
      "🚗 Vehicles: 20\n",
      "\n",
      "2️⃣ Streaming /chat/stream endpoint (with progress):\n",
      "----------------------------------------------------------------------\n",
      "📨 Sending: 'Show me Honda Civic'\n",
      "\n",
      "======================================================================\n",
      "PROGRESS UPDATES:\n",
      "======================================================================\n",
      "\n",
      "⏳ [1] Understanding your request\n",
      "✅ [2] Routing to browsing mode\n",
      "⏳ [3] Analyzing your message for search criteria\n",
      "✅ [4] Search criteria extracted\n",
      "⏳ [5] Searching for vehicles\n",
      "✅ [6] Found 20 vehicles\n",
      "⏳ [7] Presenting vehicles\n",
      "✅ [8] Response ready\n",
      "✅ [9] Complete\n",
      "\n",
      "======================================================================\n",
      "✨ COMPLETE!\n",
      "======================================================================\n",
      "\n",
      "⏱️  Time: 9.95s\n",
      "✅ Same result, but with real-time progress updates!\n",
      "🚗 Vehicles: 20\n",
      "\n",
      "======================================================================\n",
      "CONCLUSION:\n",
      "======================================================================\n",
      "• Both endpoints take similar time\n",
      "• Streaming provides better UX with progress updates\n",
      "• Use /chat/stream for web UI to show loading states\n",
      "======================================================================\n"
     ]
    }
   ],
   "source": [
    "import time\n",
    "\n",
    "message = \"Show me Honda Civic\"\n",
    "\n",
    "print(\"=\"*70)\n",
    "print(\"COMPARISON: Regular vs Streaming\")\n",
    "print(\"=\"*70)\n",
    "\n",
    "# 1. Regular endpoint (no progress)\n",
    "print(\"\\n1️⃣ Regular /chat endpoint (no progress updates):\")\n",
    "print(\"-\" * 70)\n",
    "start = time.time()\n",
    "\n",
    "regular_response = requests.post(\n",
    "    f\"{BASE_URL}/chat\",\n",
    "    json={\"message\": message}\n",
    ")\n",
    "\n",
    "regular_time = time.time() - start\n",
    "regular_data = regular_response.json()\n",
    "\n",
    "print(f\"⏱️  Time: {regular_time:.2f}s\")\n",
    "print(f\"✅ Response received (no progress updates during wait)\")\n",
    "print(f\"🚗 Vehicles: {len(regular_data.get('vehicles', []))}\")\n",
    "\n",
    "# 2. Streaming endpoint (with progress)\n",
    "print(f\"\\n2️⃣ Streaming /chat/stream endpoint (with progress):\")\n",
    "print(\"-\" * 70)\n",
    "start = time.time()\n",
    "\n",
    "streaming_result = stream_chat(message)\n",
    "\n",
    "streaming_time = time.time() - start\n",
    "\n",
    "print(f\"\\n⏱️  Time: {streaming_time:.2f}s\")\n",
    "print(f\"✅ Same result, but with real-time progress updates!\")\n",
    "print(f\"🚗 Vehicles: {len(streaming_result.get('vehicles', []))}\")\n",
    "\n",
    "print(\"\\n\" + \"=\"*70)\n",
    "print(\"CONCLUSION:\")\n",
    "print(\"=\"*70)\n",
    "print(\"• Both endpoints take similar time\")\n",
    "print(\"• Streaming provides better UX with progress updates\")\n",
    "print(\"• Use /chat/stream for web UI to show loading states\")\n",
    "print(\"=\"*70)"
   ]
  }
 ],
 "metadata": {
  "kernelspec": {
   "display_name": "Python 3 (ipykernel)",
   "language": "python",
   "name": "python3"
  },
  "language_info": {
   "codemirror_mode": {
    "name": "ipython",
    "version": 3
   },
   "file_extension": ".py",
   "mimetype": "text/x-python",
   "name": "python",
   "nbconvert_exporter": "python",
   "pygments_lexer": "ipython3",
   "version": "3.12.7"
  }
 },
 "nbformat": 4,
 "nbformat_minor": 4
}
