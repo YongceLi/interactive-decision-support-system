{
 "cells": [
  {
   "cell_type": "markdown",
   "metadata": {},
   "source": [
    "# Vehicle Search Agent API Testing\n",
    "\n",
    "Interactive notebook for testing the API endpoints.\n",
    "\n",
    "**Prerequisites:** Make sure the API server is running:\n",
    "```bash\n",
    "python api_server.py\n",
    "```"
   ]
  },
  {
   "cell_type": "code",
   "execution_count": null,
   "metadata": {},
   "outputs": [],
   "source": [
    "import requests\n",
    "import json\n",
    "from pprint import pprint\n",
    "\n",
    "BASE_URL = \"http://localhost:8000\""
   ]
  },
  {
   "cell_type": "markdown",
   "metadata": {},
   "source": [
    "## 1. Health Check"
   ]
  },
  {
   "cell_type": "code",
   "execution_count": null,
   "metadata": {},
   "outputs": [],
   "source": [
    "response = requests.get(f\"{BASE_URL}/\")\n",
    "print(f\"Status: {response.status_code}\")\n",
    "pprint(response.json())"
   ]
  },
  {
   "cell_type": "markdown",
   "metadata": {},
   "source": [
    "## 2. Start a Conversation"
   ]
  },
  {
   "cell_type": "code",
   "execution_count": null,
   "metadata": {},
   "outputs": [],
   "source": [
    "# Send first message\n",
    "response = requests.post(\n",
    "    f\"{BASE_URL}/chat\",\n",
    "    json={\n",
    "        \"message\": \"I want a Jeep around $30k in Colorado\"\n",
    "    }\n",
    ")\n",
    "\n",
    "data = response.json()\n",
    "session_id = data.get('session_id')\n",
    "\n",
    "print(f\"Session ID: {session_id}\")\n",
    "print(f\"Mode: {data.get('mode')}\")\n",
    "print(f\"\\nAgent Response:\")\n",
    "print(data.get('response'))\n",
    "print(f\"\\nVehicles Found: {len(data.get('vehicles', []))}\")"
   ]
  },
  {
   "cell_type": "markdown",
   "metadata": {},
   "source": [
    "## 3. View Filters"
   ]
  },
  {
   "cell_type": "code",
   "execution_count": null,
   "metadata": {},
   "outputs": [],
   "source": [
    "print(\"Current Filters:\")\n",
    "pprint(data.get('filters'))\n",
    "\n",
    "print(\"\\nInferred Preferences:\")\n",
    "pprint(data.get('preferences'))"
   ]
  },
  {
   "cell_type": "markdown",
   "metadata": {},
   "source": [
    "## 4. View Vehicle Listings"
   ]
  },
  {
   "cell_type": "code",
   "execution_count": null,
   "metadata": {},
   "outputs": [],
   "source": [
    "vehicles = data.get('vehicles', [])\n",
    "\n",
    "for i, vehicle in enumerate(vehicles[:5], 1):  # Show top 5\n",
    "    v = vehicle.get('vehicle', {})\n",
    "    listing = vehicle.get('retailListing', {})\n",
    "    \n",
    "    print(f\"#{i}. {v.get('year')} {v.get('make')} {v.get('model')} {v.get('trim', '')}\")\n",
    "    print(f\"    Price: ${listing.get('price', 'N/A'):,}\")\n",
    "    print(f\"    Miles: {listing.get('miles', 'N/A'):,}\")\n",
    "    print(f\"    Location: {listing.get('city')}, {listing.get('state')}\")\n",
    "    print(f\"    VIN: {v.get('vin')}\")\n",
    "    print()"
   ]
  },
  {
   "cell_type": "markdown",
   "metadata": {},
   "source": [
    "## 5. Continue Conversation (Analytical Mode)"
   ]
  },
  {
   "cell_type": "code",
   "execution_count": null,
   "metadata": {},
   "outputs": [],
   "source": [
    "# Ask about a specific vehicle\n",
    "response = requests.post(\n",
    "    f\"{BASE_URL}/chat\",\n",
    "    json={\n",
    "        \"message\": \"Tell me more about #1\",\n",
    "        \"session_id\": session_id\n",
    "    }\n",
    ")\n",
    "\n",
    "data = response.json()\n",
    "\n",
    "print(f\"Mode: {data.get('mode')}\")\n",
    "print(f\"\\nAgent Response:\")\n",
    "print(data.get('response'))"
   ]
  },
  {
   "cell_type": "markdown",
   "metadata": {},
   "source": [
    "## 6. Get Session State"
   ]
  },
  {
   "cell_type": "code",
   "execution_count": null,
   "metadata": {},
   "outputs": [],
   "source": [
    "response = requests.get(f\"{BASE_URL}/session/{session_id}\")\n",
    "session_data = response.json()\n",
    "\n",
    "print(\"Session State:\")\n",
    "print(f\"  Filters: {session_data.get('filters')}\")\n",
    "print(f\"  Preferences: {session_data.get('preferences')}\")\n",
    "print(f\"  Vehicles: {len(session_data.get('vehicles', []))}\")\n",
    "print(f\"  Conversation Length: {len(session_data.get('conversation_history', []))} messages\")"
   ]
  },
  {
   "cell_type": "markdown",
   "metadata": {},
   "source": [
    "## 7. View Conversation History"
   ]
  },
  {
   "cell_type": "code",
   "execution_count": null,
   "metadata": {},
   "outputs": [],
   "source": [
    "print(\"Conversation History:\")\n",
    "print(\"=\" * 70)\n",
    "\n",
    "for msg in session_data.get('conversation_history', []):\n",
    "    role = msg.get('role', 'unknown').upper()\n",
    "    content = msg.get('content', '')\n",
    "    \n",
    "    if role == 'USER':\n",
    "        print(f\"\\n👤 User: {content}\")\n",
    "    else:\n",
    "        print(f\"\\n🤖 Agent: {content[:200]}...\")  # Truncate long responses\n",
    "    print(\"-\" * 70)"
   ]
  },
  {
   "cell_type": "markdown",
   "metadata": {},
   "source": [
    "## 8. Get Vehicle Details by VIN"
   ]
  },
  {
   "cell_type": "code",
   "execution_count": null,
   "metadata": {},
   "outputs": [],
   "source": [
    "# Get VIN from first vehicle\n",
    "if vehicles:\n",
    "    vin = vehicles[0].get('vehicle', {}).get('vin')\n",
    "    \n",
    "    if vin:\n",
    "        response = requests.get(f\"{BASE_URL}/vehicles/{vin}\")\n",
    "        vehicle_details = response.json()\n",
    "        \n",
    "        print(\"Vehicle Details:\")\n",
    "        pprint(vehicle_details.get('vehicle', {}))\n",
    "        \n",
    "        print(f\"\\nPhotos: {len(vehicle_details.get('photos', []))} available\")\n",
    "else:\n",
    "    print(\"No vehicles available to query\")"
   ]
  },
  {
   "cell_type": "markdown",
   "metadata": {},
   "source": [
    "## 9. Custom Message (Try Your Own!)"
   ]
  },
  {
   "cell_type": "code",
   "execution_count": null,
   "metadata": {},
   "outputs": [],
   "source": [
    "# Try your own message\n",
    "custom_message = \"What's the safety rating of #1?\"  # Change this!\n",
    "\n",
    "response = requests.post(\n",
    "    f\"{BASE_URL}/chat\",\n",
    "    json={\n",
    "        \"message\": custom_message,\n",
    "        \"session_id\": session_id\n",
    "    }\n",
    ")\n",
    "\n",
    "data = response.json()\n",
    "print(f\"Your Message: {custom_message}\")\n",
    "print(f\"\\nAgent Response:\")\n",
    "print(data.get('response'))"
   ]
  },
  {
   "cell_type": "markdown",
   "metadata": {},
   "source": [
    "## 10. Reset Session"
   ]
  },
  {
   "cell_type": "code",
   "execution_count": null,
   "metadata": {},
   "outputs": [],
   "source": [
    "response = requests.post(\n",
    "    f\"{BASE_URL}/session/reset\",\n",
    "    json={\"session_id\": session_id}\n",
    ")\n",
    "\n",
    "print(\"Session reset:\")\n",
    "pprint(response.json())"
   ]
  },
  {
   "cell_type": "markdown",
   "metadata": {},
   "source": [
    "## 11. List All Active Sessions"
   ]
  },
  {
   "cell_type": "code",
   "execution_count": null,
   "metadata": {},
   "outputs": [],
   "source": [
    "response = requests.get(f\"{BASE_URL}/sessions\")\n",
    "sessions_data = response.json()\n",
    "\n",
    "print(f\"Active Sessions: {sessions_data.get('active_sessions')}\")\n",
    "print(f\"Session IDs: {sessions_data.get('session_ids')}\")"
   ]
  }
 ],
 "metadata": {
  "kernelspec": {
   "display_name": "Python 3",
   "language": "python",
   "name": "python3"
  },
  "language_info": {
   "codemirror_mode": {
    "name": "ipython",
    "version": 3
   },
   "file_extension": ".py",
   "mimetype": "text/x-python",
   "name": "python",
   "nbconvert_exporter": "python",
   "pygments_lexer": "ipython3",
   "version": "3.10.0"
  }
 },
 "nbformat": 4,
 "nbformat_minor": 4
}
