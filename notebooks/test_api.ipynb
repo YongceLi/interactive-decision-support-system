{
 "cells": [
  {
   "cell_type": "markdown",
   "metadata": {},
   "source": [
    "# Vehicle Search Agent API Testing\n",
    "\n",
    "Interactive notebook for testing the API endpoints.\n",
    "\n",
    "**Prerequisites:** Make sure the API server is running:\n",
    "```bash\n",
    "python api/server.py\n",
    "api documentation: http://localhost:8000/docs\n",
    "```"
   ]
  },
  {
   "cell_type": "code",
   "execution_count": null,
   "metadata": {},
   "outputs": [],
   "source": [
    "import requests\n",
    "import json\n",
    "from pprint import pprint\n",
    "\n",
    "BASE_URL = \"http://localhost:8000\""
   ]
  },
  {
   "cell_type": "markdown",
   "metadata": {},
   "source": [
    "## 1. Health Check"
   ]
  },
  {
   "cell_type": "code",
   "execution_count": null,
   "metadata": {},
   "outputs": [],
   "source": [
    "response = requests.get(f\"{BASE_URL}/\")\n",
    "print(f\"Status: {response.status_code}\")\n",
    "pprint(response.json())"
   ]
  },
  {
   "cell_type": "markdown",
   "metadata": {},
   "source": [
    "## 2. Start a Conversation"
   ]
  },
  {
   "cell_type": "code",
   "execution_count": null,
   "metadata": {},
   "outputs": [],
   "source": [
    "# Send first message\n",
    "response = requests.post(\n",
    "    f\"{BASE_URL}/chat\",\n",
    "    json={\n",
    "        \"message\": \"I want a Jeep around $30k in Colorado\"\n",
    "    }\n",
    ")\n",
    "\n",
    "data = response.json()\n",
    "session_id = data.get('session_id')\n",
    "\n",
    "print(f\"Session ID: {session_id}\")\n",
    "print(f\"Mode: {data.get('mode')}\")\n",
    "print(f\"\\nAgent Response:\")\n",
    "print(data.get('response'))\n",
    "print(f\"\\nVehicles Found: {len(data.get('vehicles', []))}\")"
   ]
  },
  {
   "cell_type": "markdown",
   "metadata": {},
   "source": [
    "## 3. View Filters"
   ]
  },
  {
   "cell_type": "code",
   "execution_count": null,
   "metadata": {},
   "outputs": [],
   "source": [
    "print(\"Current Filters:\")\n",
    "pprint(data.get('filters'))\n",
    "\n",
    "print(\"\\nInferred Preferences:\")\n",
    "pprint(data.get('preferences'))"
   ]
  },
  {
   "cell_type": "markdown",
   "metadata": {},
   "source": [
    "## 4. View Vehicle Listings"
   ]
  },
  {
   "cell_type": "code",
   "execution_count": null,
   "metadata": {},
   "outputs": [],
   "source": [
    "vehicles = data.get('vehicles', [])\n",
    "for i, vehicle in enumerate(vehicles[:5], 1):  # Show top 5\n",
    "    v = vehicle.get('vehicle', {})\n",
    "    listing = vehicle.get('retailListing', {})\n",
    "    history = vehicle.get('history', {})\n",
    "    photos = vehicle.get('photos')\n",
    "\n",
    "    print(f\"\\n{'='*80}\")\n",
    "    print(f\"#{i}. {v.get('year')} {v.get('make')} {v.get('model')} {v.get('trim', '')}\")\n",
    "    print(f\"{'='*80}\")\n",
    "\n",
    "    # Price and basic info\n",
    "    print(f\"💰 Price:        ${listing.get('price', 0):,}\")\n",
    "    print(f\"📏 Mileage:      {listing.get('miles', 0):,} miles\")\n",
    "    print(f\"📍 Location:     {listing.get('city')}, {listing.get('state')} {listing.get('zip')}\")\n",
    "    print(f\"🏢 Dealer:       {listing.get('dealer')}\")\n",
    "\n",
    "    # Vehicle details\n",
    "    print(f\"\\n🚗 Vehicle Details:\")\n",
    "    print(f\"   • Body Style:    {v.get('bodyStyle', 'N/A')}\")\n",
    "    print(f\"   • Drivetrain:    {v.get('drivetrain', 'N/A')}\")\n",
    "    print(f\"   • Engine:        {v.get('engine', 'N/A')}\")\n",
    "    print(f\"   • Transmission:  {v.get('transmission', 'N/A')}\")\n",
    "    print(f\"   • Exterior:      {v.get('exteriorColor', 'N/A')}\")\n",
    "    print(f\"   • Interior:      {v.get('interiorColor', 'N/A')}\")\n",
    "    print(f\"   • Doors:         {v.get('doors', 'N/A')}\")\n",
    "    print(f\"   • Seats:         {v.get('seats', 'N/A')}\")\n",
    "\n",
    "    # History\n",
    "    print(f\"\\n📋 Vehicle History:\")\n",
    "    print(f\"   • Accidents:     {'Yes (' + str(history.get('accidentCount', 0)) + ')' if\n",
    "history.get('accidents') else 'No'}\")\n",
    "    print(f\"   • Owners:        {history.get('ownerCount', 'N/A')}\")\n",
    "    print(f\"   • Usage:         {history.get('usageType', 'N/A')}\")\n",
    "\n",
    "    # Photos\n",
    "    if photos and photos.get('retail'):\n",
    "        photo_urls = photos.get('retail', [])\n",
    "        print(f\"\\n📸 Photos:       {len(photo_urls)} available (cached)\")\n",
    "        print(f\"   • First photo:   {photo_urls[0][:60]}...\")\n",
    "    else:\n",
    "        print(f\"\\n📸 Photos:       No photos available\")\n",
    "\n",
    "    # Links\n",
    "    print(f\"\\n🔗 Links:\")\n",
    "    print(f\"   • VIN:           {v.get('vin')}\")\n",
    "    print(f\"   • Listing:       {listing.get('vdp', 'N/A')[:70]}...\")\n",
    "    if listing.get('carfaxUrl'):\n",
    "        print(f\"   • CarFax:        {listing.get('carfaxUrl')[:70]}...\")\n",
    "\n",
    "print(f\"\\n{'='*80}\")\n",
    "print(f\"Total vehicles: {len(vehicles)}\")"
   ]
  },
  {
   "cell_type": "markdown",
   "metadata": {},
   "source": [
    "## 5. Continue Conversation (Analytical Mode)"
   ]
  },
  {
   "cell_type": "code",
   "execution_count": null,
   "metadata": {},
   "outputs": [],
   "source": [
    "# Ask about a specific vehicle\n",
    "response = requests.post(\n",
    "    f\"{BASE_URL}/chat\",\n",
    "    json={\n",
    "        \"message\": \"Tell me more about #1\",\n",
    "        \"session_id\": session_id\n",
    "    }\n",
    ")\n",
    "\n",
    "data = response.json()\n",
    "\n",
    "print(f\"Mode: {data.get('mode')}\")\n",
    "print(f\"\\nAgent Response:\")\n",
    "print(data.get('response'))"
   ]
  },
  {
   "cell_type": "markdown",
   "metadata": {},
   "source": [
    "## 6. Get Session State"
   ]
  },
  {
   "cell_type": "code",
   "execution_count": null,
   "metadata": {},
   "outputs": [],
   "source": [
    "response = requests.get(f\"{BASE_URL}/session/{session_id}\")\n",
    "session_data = response.json()\n",
    "\n",
    "print(\"Session State:\")\n",
    "print(f\"  Filters: {session_data.get('filters')}\")\n",
    "print(f\"  Preferences: {session_data.get('preferences')}\")\n",
    "print(f\"  Vehicles: {len(session_data.get('vehicles', []))}\")\n",
    "print(f\"  Conversation Length: {len(session_data.get('conversation_history', []))} messages\")"
   ]
  },
  {
   "cell_type": "markdown",
   "metadata": {},
   "source": [
    "## 7. View Conversation History"
   ]
  },
  {
   "cell_type": "code",
   "execution_count": null,
   "metadata": {},
   "outputs": [],
   "source": [
    "print(\"Conversation History:\")\n",
    "print(\"=\" * 70)\n",
    "\n",
    "for msg in session_data.get('conversation_history', []):\n",
    "    role = msg.get('role', 'unknown').upper()\n",
    "    content = msg.get('content', '')\n",
    "    \n",
    "    if role == 'USER':\n",
    "        print(f\"\\n👤 User: {content}\")\n",
    "    else:\n",
    "        print(f\"\\n🤖 Agent: {content[:200]}...\")  # Truncate long responses\n",
    "    print(\"-\" * 70)"
   ]
  },
  {
   "cell_type": "markdown",
   "metadata": {},
   "source": [
    "## 8. Get Vehicle Details by VIN"
   ]
  },
  {
   "cell_type": "code",
   "execution_count": null,
   "metadata": {},
   "outputs": [],
   "source": [
    "# Get VIN from first vehicle and test Auto.dev API directly\n",
    "import os\n",
    "from dotenv import load_dotenv\n",
    "\n",
    "load_dotenv()\n",
    "\n",
    "if vehicles:\n",
    "    vin = vehicles[0].get('vehicle', {}).get('vin')\n",
    "    \n",
    "    if vin:\n",
    "        print(f\"Testing Auto.dev API for VIN: {vin}\\n\")\n",
    "        print(\"=\" * 70)\n",
    "        \n",
    "        # Get Auto.dev API key\n",
    "        autodev_api_key = os.getenv('AUTODEV_API_KEY')\n",
    "        \n",
    "        if not autodev_api_key:\n",
    "            print(\"❌ AUTODEV_API_KEY not found in environment\")\n",
    "        else:\n",
    "            headers = {\n",
    "                \"Authorization\": f\"Bearer {autodev_api_key}\",\n",
    "                \"Content-Type\": \"application/json\"\n",
    "            }\n",
    "            \n",
    "            # Get vehicle listing details\n",
    "            print(\"\\n1. Vehicle Listing Details:\")\n",
    "            listing_response = requests.get(\n",
    "                f\"https://api.auto.dev/listings/{vin}\",\n",
    "                headers=headers\n",
    "            )\n",
    "            \n",
    "            if listing_response.status_code == 200:\n",
    "                listing_data = listing_response.json()\n",
    "                print(\"✅ Listing found\")\n",
    "                pprint(listing_data)\n",
    "            else:\n",
    "                print(f\"❌ Error {listing_response.status_code}: {listing_response.text}\")\n",
    "            \n",
    "            # Get vehicle photos\n",
    "            print(\"\\n2. Vehicle Photos:\")\n",
    "            photos_response = requests.get(\n",
    "                f\"https://api.auto.dev/photos/{vin}\",\n",
    "                headers=headers\n",
    "            )\n",
    "            \n",
    "            if photos_response.status_code == 200:\n",
    "                photos_data = photos_response.json()\n",
    "                retail_photos = photos_data.get('data', {}).get('retail', [])\n",
    "                \n",
    "                print(f\"✅ Found {len(retail_photos)} photos\")\n",
    "                \n",
    "                if retail_photos:\n",
    "                    print(\"\\nFirst 5 photo URLs:\")\n",
    "                    for i, url in enumerate(retail_photos[:5], 1):\n",
    "                        print(f\"  {i}. {url}\")\n",
    "            else:\n",
    "                print(f\"❌ Error {photos_response.status_code}: {photos_response.text}\")\n",
    "    else:\n",
    "        print(\"No VIN found in first vehicle\")\n",
    "else:\n",
    "    print(\"No vehicles available to query\")"
   ]
  },
  {
   "cell_type": "markdown",
   "metadata": {},
   "source": [
    "## 9. Custom Message (Try Your Own!)"
   ]
  },
  {
   "cell_type": "code",
   "execution_count": null,
   "metadata": {},
   "outputs": [],
   "source": [
    "# Try your own message\n",
    "custom_message = \"What's the safety rating of #1?\"  \n",
    "\n",
    "response = requests.post(\n",
    "    f\"{BASE_URL}/chat\",\n",
    "    json={\n",
    "        \"message\": custom_message,\n",
    "        \"session_id\": session_id\n",
    "    }\n",
    ")\n",
    "\n",
    "data = response.json()\n",
    "print(f\"Your Message: {custom_message}\")\n",
    "print(f\"\\nAgent Response:\")\n",
    "print(data.get('response'))"
   ]
  },
  {
   "cell_type": "markdown",
   "metadata": {},
   "source": [
    "## 10. Reset Session"
   ]
  },
  {
   "cell_type": "code",
   "execution_count": null,
   "metadata": {},
   "outputs": [],
   "source": [
    "response = requests.post(\n",
    "    f\"{BASE_URL}/session/reset\",\n",
    "    json={\"session_id\": session_id}\n",
    ")\n",
    "\n",
    "print(\"Session reset:\")\n",
    "pprint(response.json())"
   ]
  },
  {
   "cell_type": "markdown",
   "metadata": {},
   "source": [
    "## 11. List All Active Sessions"
   ]
  },
  {
   "cell_type": "code",
   "execution_count": null,
   "metadata": {},
   "outputs": [],
   "source": [
    "response = requests.get(f\"{BASE_URL}/sessions\")\n",
    "sessions_data = response.json()\n",
    "\n",
    "print(f\"Active Sessions: {sessions_data.get('active_sessions')}\")\n",
    "print(f\"Session IDs: {sessions_data.get('session_ids')}\")"
   ]
  },
  {
   "cell_type": "code",
   "execution_count": null,
   "metadata": {},
   "outputs": [],
   "source": []
  }
 ],
 "metadata": {
  "kernelspec": {
   "display_name": "Python 3 (ipykernel)",
   "language": "python",
   "name": "python3"
  },
  "language_info": {
   "codemirror_mode": {
    "name": "ipython",
    "version": 3
   },
   "file_extension": ".py",
   "mimetype": "text/x-python",
   "name": "python",
   "nbconvert_exporter": "python",
   "pygments_lexer": "ipython3",
   "version": "3.12.7"
  }
 },
 "nbformat": 4,
 "nbformat_minor": 4
}
